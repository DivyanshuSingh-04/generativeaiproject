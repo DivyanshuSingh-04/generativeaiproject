{
 "cells": [
  {
   "cell_type": "code",
   "execution_count": 1,
   "id": "172e43e8-f206-49e3-8c05-a52f66eff973",
   "metadata": {},
   "outputs": [
    {
     "name": "stdout",
     "output_type": "stream",
     "text": [
      "Requirement already satisfied: openai in c:\\users\\dell\\appdata\\local\\anaconda3\\lib\\site-packages (1.60.2)\n",
      "Requirement already satisfied: anyio<5,>=3.5.0 in c:\\users\\dell\\appdata\\local\\anaconda3\\lib\\site-packages (from openai) (4.2.0)\n",
      "Requirement already satisfied: distro<2,>=1.7.0 in c:\\users\\dell\\appdata\\local\\anaconda3\\lib\\site-packages (from openai) (1.8.0)\n",
      "Requirement already satisfied: httpx<1,>=0.23.0 in c:\\users\\dell\\appdata\\local\\anaconda3\\lib\\site-packages (from openai) (0.28.1)\n",
      "Requirement already satisfied: jiter<1,>=0.4.0 in c:\\users\\dell\\appdata\\local\\anaconda3\\lib\\site-packages (from openai) (0.8.2)\n",
      "Requirement already satisfied: pydantic<3,>=1.9.0 in c:\\users\\dell\\appdata\\local\\anaconda3\\lib\\site-packages (from openai) (2.10.3)\n",
      "Requirement already satisfied: sniffio in c:\\users\\dell\\appdata\\local\\anaconda3\\lib\\site-packages (from openai) (1.3.0)\n",
      "Requirement already satisfied: tqdm>4 in c:\\users\\dell\\appdata\\local\\anaconda3\\lib\\site-packages (from openai) (4.65.0)\n",
      "Requirement already satisfied: typing-extensions<5,>=4.11 in c:\\users\\dell\\appdata\\local\\anaconda3\\lib\\site-packages (from openai) (4.12.2)\n",
      "Requirement already satisfied: idna>=2.8 in c:\\users\\dell\\appdata\\local\\anaconda3\\lib\\site-packages (from anyio<5,>=3.5.0->openai) (3.4)\n",
      "Requirement already satisfied: certifi in c:\\users\\dell\\appdata\\local\\anaconda3\\lib\\site-packages (from httpx<1,>=0.23.0->openai) (2024.12.14)\n",
      "Requirement already satisfied: httpcore==1.* in c:\\users\\dell\\appdata\\local\\anaconda3\\lib\\site-packages (from httpx<1,>=0.23.0->openai) (1.0.7)\n",
      "Requirement already satisfied: h11<0.15,>=0.13 in c:\\users\\dell\\appdata\\local\\anaconda3\\lib\\site-packages (from httpcore==1.*->httpx<1,>=0.23.0->openai) (0.14.0)\n",
      "Requirement already satisfied: annotated-types>=0.6.0 in c:\\users\\dell\\appdata\\local\\anaconda3\\lib\\site-packages (from pydantic<3,>=1.9.0->openai) (0.6.0)\n",
      "Requirement already satisfied: pydantic-core==2.27.1 in c:\\users\\dell\\appdata\\local\\anaconda3\\lib\\site-packages (from pydantic<3,>=1.9.0->openai) (2.27.1)\n",
      "Requirement already satisfied: colorama in c:\\users\\dell\\appdata\\local\\anaconda3\\lib\\site-packages (from tqdm>4->openai) (0.4.6)\n",
      "Note: you may need to restart the kernel to use updated packages.\n"
     ]
    }
   ],
   "source": [
    "pip install openai"
   ]
  },
  {
   "cell_type": "code",
   "execution_count": 2,
   "id": "1792adb0-5cb2-49f2-ab8c-e70b931d3e36",
   "metadata": {},
   "outputs": [
    {
     "name": "stdout",
     "output_type": "stream",
     "text": [
      "Requirement already satisfied: openai[datalib] in c:\\users\\dell\\appdata\\local\\anaconda3\\lib\\site-packages (1.60.2)\n",
      "Requirement already satisfied: anyio<5,>=3.5.0 in c:\\users\\dell\\appdata\\local\\anaconda3\\lib\\site-packages (from openai[datalib]) (4.2.0)\n",
      "Requirement already satisfied: distro<2,>=1.7.0 in c:\\users\\dell\\appdata\\local\\anaconda3\\lib\\site-packages (from openai[datalib]) (1.8.0)\n",
      "Requirement already satisfied: httpx<1,>=0.23.0 in c:\\users\\dell\\appdata\\local\\anaconda3\\lib\\site-packages (from openai[datalib]) (0.28.1)\n",
      "Requirement already satisfied: jiter<1,>=0.4.0 in c:\\users\\dell\\appdata\\local\\anaconda3\\lib\\site-packages (from openai[datalib]) (0.8.2)\n",
      "Requirement already satisfied: pydantic<3,>=1.9.0 in c:\\users\\dell\\appdata\\local\\anaconda3\\lib\\site-packages (from openai[datalib]) (2.10.3)\n",
      "Requirement already satisfied: sniffio in c:\\users\\dell\\appdata\\local\\anaconda3\\lib\\site-packages (from openai[datalib]) (1.3.0)\n",
      "Requirement already satisfied: tqdm>4 in c:\\users\\dell\\appdata\\local\\anaconda3\\lib\\site-packages (from openai[datalib]) (4.65.0)\n",
      "Requirement already satisfied: typing-extensions<5,>=4.11 in c:\\users\\dell\\appdata\\local\\anaconda3\\lib\\site-packages (from openai[datalib]) (4.12.2)\n",
      "Requirement already satisfied: numpy>=1 in c:\\users\\dell\\appdata\\local\\anaconda3\\lib\\site-packages (from openai[datalib]) (1.26.4)\n",
      "Collecting pandas-stubs>=1.1.0.11 (from openai[datalib])\n",
      "  Downloading pandas_stubs-2.2.3.241126-py3-none-any.whl.metadata (10.0 kB)\n",
      "Requirement already satisfied: pandas>=1.2.3 in c:\\users\\dell\\appdata\\local\\anaconda3\\lib\\site-packages (from openai[datalib]) (2.1.4)\n",
      "Requirement already satisfied: idna>=2.8 in c:\\users\\dell\\appdata\\local\\anaconda3\\lib\\site-packages (from anyio<5,>=3.5.0->openai[datalib]) (3.4)\n",
      "Requirement already satisfied: certifi in c:\\users\\dell\\appdata\\local\\anaconda3\\lib\\site-packages (from httpx<1,>=0.23.0->openai[datalib]) (2024.12.14)\n",
      "Requirement already satisfied: httpcore==1.* in c:\\users\\dell\\appdata\\local\\anaconda3\\lib\\site-packages (from httpx<1,>=0.23.0->openai[datalib]) (1.0.7)\n",
      "Requirement already satisfied: h11<0.15,>=0.13 in c:\\users\\dell\\appdata\\local\\anaconda3\\lib\\site-packages (from httpcore==1.*->httpx<1,>=0.23.0->openai[datalib]) (0.14.0)\n",
      "Requirement already satisfied: python-dateutil>=2.8.2 in c:\\users\\dell\\appdata\\local\\anaconda3\\lib\\site-packages (from pandas>=1.2.3->openai[datalib]) (2.8.2)\n",
      "Requirement already satisfied: pytz>=2020.1 in c:\\users\\dell\\appdata\\local\\anaconda3\\lib\\site-packages (from pandas>=1.2.3->openai[datalib]) (2023.3.post1)\n",
      "Requirement already satisfied: tzdata>=2022.1 in c:\\users\\dell\\appdata\\local\\anaconda3\\lib\\site-packages (from pandas>=1.2.3->openai[datalib]) (2023.3)\n",
      "Collecting types-pytz>=2022.1.1 (from pandas-stubs>=1.1.0.11->openai[datalib])\n",
      "  Downloading types_pytz-2024.2.0.20241221-py3-none-any.whl.metadata (1.8 kB)\n",
      "Requirement already satisfied: annotated-types>=0.6.0 in c:\\users\\dell\\appdata\\local\\anaconda3\\lib\\site-packages (from pydantic<3,>=1.9.0->openai[datalib]) (0.6.0)\n",
      "Requirement already satisfied: pydantic-core==2.27.1 in c:\\users\\dell\\appdata\\local\\anaconda3\\lib\\site-packages (from pydantic<3,>=1.9.0->openai[datalib]) (2.27.1)\n",
      "Requirement already satisfied: colorama in c:\\users\\dell\\appdata\\local\\anaconda3\\lib\\site-packages (from tqdm>4->openai[datalib]) (0.4.6)\n",
      "Requirement already satisfied: six>=1.5 in c:\\users\\dell\\appdata\\local\\anaconda3\\lib\\site-packages (from python-dateutil>=2.8.2->pandas>=1.2.3->openai[datalib]) (1.16.0)\n",
      "Downloading pandas_stubs-2.2.3.241126-py3-none-any.whl (158 kB)\n",
      "Downloading types_pytz-2024.2.0.20241221-py3-none-any.whl (10 kB)\n",
      "Installing collected packages: types-pytz, pandas-stubs\n",
      "Successfully installed pandas-stubs-2.2.3.241126 types-pytz-2024.2.0.20241221\n",
      "Note: you may need to restart the kernel to use updated packages.\n"
     ]
    }
   ],
   "source": [
    "pip install openai[datalib]"
   ]
  },
  {
   "cell_type": "code",
   "execution_count": 3,
   "id": "a3478488-5f2f-42d9-8a2d-e8f3c6d48f5b",
   "metadata": {},
   "outputs": [
    {
     "name": "stdout",
     "output_type": "stream",
     "text": [
      "Collecting urllib3==1.26.6\n",
      "  Downloading urllib3-1.26.6-py2.py3-none-any.whl.metadata (44 kB)\n",
      "Downloading urllib3-1.26.6-py2.py3-none-any.whl (138 kB)\n",
      "Installing collected packages: urllib3\n",
      "  Attempting uninstall: urllib3\n",
      "    Found existing installation: urllib3 2.0.7\n",
      "    Uninstalling urllib3-2.0.7:\n",
      "      Successfully uninstalled urllib3-2.0.7\n",
      "Successfully installed urllib3-1.26.6\n",
      "Note: you may need to restart the kernel to use updated packages.\n"
     ]
    }
   ],
   "source": [
    "pip install urllib3==1.26.6"
   ]
  },
  {
   "cell_type": "code",
   "execution_count": 4,
   "id": "9a8cd279-d7e7-45e1-b458-1edc747d657d",
   "metadata": {},
   "outputs": [
    {
     "name": "stdout",
     "output_type": "stream",
     "text": [
      "Requirement already satisfied: python-dotenv in c:\\users\\dell\\appdata\\local\\anaconda3\\lib\\site-packages (0.21.0)\n",
      "Note: you may need to restart the kernel to use updated packages.\n"
     ]
    }
   ],
   "source": [
    "pip install python-dotenv"
   ]
  },
  {
   "cell_type": "code",
   "execution_count": 7,
   "id": "1afdfe26-d849-4769-800c-149d0bfc296c",
   "metadata": {},
   "outputs": [],
   "source": [
    "import os\n",
    "from openai import OpenAI\n",
    "import openai\n",
    "from dotenv import load_dotenv, find_dotenv\n",
    "_ = load_dotenv(find_dotenv())"
   ]
  },
  {
   "cell_type": "code",
   "execution_count": 30,
   "id": "f9454f59-1e28-4ed3-89a9-ddee171b78e1",
   "metadata": {},
   "outputs": [],
   "source": [
    "openai.api_key = \"Your Open Ai Api KEY\""
   ]
  },
  {
   "cell_type": "code",
   "execution_count": 15,
   "id": "ef4aad66-67b6-44b5-b2b7-b78c1b275897",
   "metadata": {},
   "outputs": [
    {
     "name": "stdout",
     "output_type": "stream",
     "text": [
      "Collecting openai==0.28Note: you may need to restart the kernel to use updated packages.\n",
      "\n",
      "  Using cached openai-0.28.0-py3-none-any.whl.metadata (13 kB)\n",
      "Requirement already satisfied: requests>=2.20 in c:\\users\\dell\\appdata\\local\\anaconda3\\lib\\site-packages (from openai==0.28) (2.32.3)\n",
      "Requirement already satisfied: tqdm in c:\\users\\dell\\appdata\\local\\anaconda3\\lib\\site-packages (from openai==0.28) (4.65.0)\n",
      "Requirement already satisfied: aiohttp in c:\\users\\dell\\appdata\\local\\anaconda3\\lib\\site-packages (from openai==0.28) (3.9.3)\n",
      "Requirement already satisfied: charset-normalizer<4,>=2 in c:\\users\\dell\\appdata\\local\\anaconda3\\lib\\site-packages (from requests>=2.20->openai==0.28) (2.0.4)\n",
      "Requirement already satisfied: idna<4,>=2.5 in c:\\users\\dell\\appdata\\local\\anaconda3\\lib\\site-packages (from requests>=2.20->openai==0.28) (3.4)\n",
      "Requirement already satisfied: urllib3<3,>=1.21.1 in c:\\users\\dell\\appdata\\local\\anaconda3\\lib\\site-packages (from requests>=2.20->openai==0.28) (1.26.6)\n",
      "Requirement already satisfied: certifi>=2017.4.17 in c:\\users\\dell\\appdata\\local\\anaconda3\\lib\\site-packages (from requests>=2.20->openai==0.28) (2024.12.14)\n",
      "Requirement already satisfied: aiosignal>=1.1.2 in c:\\users\\dell\\appdata\\local\\anaconda3\\lib\\site-packages (from aiohttp->openai==0.28) (1.2.0)\n",
      "Requirement already satisfied: attrs>=17.3.0 in c:\\users\\dell\\appdata\\local\\anaconda3\\lib\\site-packages (from aiohttp->openai==0.28) (23.1.0)\n",
      "Requirement already satisfied: frozenlist>=1.1.1 in c:\\users\\dell\\appdata\\local\\anaconda3\\lib\\site-packages (from aiohttp->openai==0.28) (1.4.0)\n",
      "Requirement already satisfied: multidict<7.0,>=4.5 in c:\\users\\dell\\appdata\\local\\anaconda3\\lib\\site-packages (from aiohttp->openai==0.28) (6.0.4)\n",
      "Requirement already satisfied: yarl<2.0,>=1.0 in c:\\users\\dell\\appdata\\local\\anaconda3\\lib\\site-packages (from aiohttp->openai==0.28) (1.9.3)\n",
      "Requirement already satisfied: colorama in c:\\users\\dell\\appdata\\local\\anaconda3\\lib\\site-packages (from tqdm->openai==0.28) (0.4.6)\n",
      "Using cached openai-0.28.0-py3-none-any.whl (76 kB)\n",
      "Installing collected packages: openai\n",
      "  Attempting uninstall: openai\n",
      "    Found existing installation: openai 1.60.2\n",
      "    Uninstalling openai-1.60.2:\n",
      "      Successfully uninstalled openai-1.60.2\n",
      "Successfully installed openai-0.28.0\n"
     ]
    }
   ],
   "source": [
    "pip install openai==0.28"
   ]
  },
  {
   "cell_type": "code",
   "execution_count": 37,
   "id": "7f036719-eb2d-4de7-8331-178865b8b6a5",
   "metadata": {},
   "outputs": [
    {
     "name": "stdout",
     "output_type": "stream",
     "text": [
      "India is a country located in South Asia, bordered by Pakistan to the northwest, China and Nepal to the north, Bhutan to the northeast, and Bangladesh and Myanmar to the east. It also shares maritime borders with Sri Lanka to its south.\n",
      "\n",
      "India is known for its diverse culture, languages, religions, cuisine and landscapes. It has a population of over 1.3 billion people making it one of the most populous countries in the world.\n",
      "\n",
      "The capital city of India is New Delhi and it operates as a federal parliamentary democratic republic with multiple states governed by their own elected governments. The official language of India is Hindi but there are many other regional languages spoken throughout different parts of the country.\n",
      "\n",
      "India has a mixed economy that includes agriculture, manufacturing industries such as textiles and information technology services which have become increasingly important in recent years.\n",
      "\n",
      "Overall India remains an emerging global power with significant cultural influence around world while facing challenges related poverty , corruption , religious conflicts etc.\n",
      "India is a country located in South Asia. It is the seventh-largest country by land area and the second-most populous country in the world, with over 1.3 billion people. India is known for its rich cultural heritage, diverse languages, religions, and cuisines.\n",
      "\n",
      "The capital of India is New Delhi and the largest city is Mumbai (formerly Bombay). The official language of India is Hindi, but there are also many other recognized regional languages spoken throughout the country.\n",
      "\n",
      "India has a federal parliamentary democratic republic form of government with a President as head of state and a Prime Minister as head of government. The economy of India is one of the fastest-growing major economies in the world, driven by sectors such as information technology services, agriculture, textiles, pharmaceuticals among others.\n",
      "\n",
      "India has significant geopolitical influence globally due to its sizeable population and growing economic power. However it also faces challenges such as poverty levels , corruption issues , environmental degradation etc that need to be addressed for sustainable development .\n",
      "India is a country located in South Asia, known for its diverse culture, rich history, and rapidly growing economy. It is the seventh-largest country by land area and the second-most populous country in the world. India is a federal parliamentary democratic republic with 28 states and 8 union territories.\n",
      "\n",
      "The capital of India is New Delhi, while Mumbai is the financial capital of the country. The official languages are Hindi and English, but there are also many other regional languages spoken throughout different parts of India.\n",
      "\n",
      "India has made significant progress in various fields such as technology, healthcare, education, and infrastructure development. However, it still faces challenges like poverty, corruption,\n",
      "and social inequality.\n",
      "\n",
      "Overall ,India continues to be an important player on the global stage due to its large population size,sustainable economic growth,and strategic geopolitical location .\n"
     ]
    }
   ],
   "source": [
    "try :\n",
    "    completion = openai.chat.completions.create(\n",
    "        model=\"gpt-3.5-turbo\",\n",
    "        messages=[{\"role\": \"user\", \"content\": \"state of india\"}],\n",
    "        temperature=1,\n",
    "        top_p=0.8,\n",
    "        n=3,\n",
    "        max_tokens=300,\n",
    "        frequency_penalty=2.0\n",
    "        \n",
    ")\n",
    "    for choice in completion.choices:\n",
    "        print(choice.message.content)  # Corrected access to message content\n",
    "\n",
    "      \n",
    "\n",
    "except openai.OpenAIError as e:  # Correct error handling\n",
    "    print(f\"Error: {e}\")"
   ]
  },
  {
   "cell_type": "code",
   "execution_count": 38,
   "id": "a96b4f61-ee74-4e40-83b4-dcfa54d368e2",
   "metadata": {},
   "outputs": [
    {
     "name": "stdout",
     "output_type": "stream",
     "text": [
      "ChatCompletion(id='chatcmpl-AvIcfPBVmKsV0DyLt8VrmnyT1Gqst', choices=[Choice(finish_reason='stop', index=0, logprobs=None, message=ChatCompletionMessage(content='India is a country located in South Asia, bordered by Pakistan to the northwest, China and Nepal to the north, Bhutan to the northeast, and Bangladesh and Myanmar to the east. It also shares maritime borders with Sri Lanka to its south.\\n\\nIndia is known for its diverse culture, languages, religions, cuisine and landscapes. It has a population of over 1.3 billion people making it one of the most populous countries in the world.\\n\\nThe capital city of India is New Delhi and it operates as a federal parliamentary democratic republic with multiple states governed by their own elected governments. The official language of India is Hindi but there are many other regional languages spoken throughout different parts of the country.\\n\\nIndia has a mixed economy that includes agriculture, manufacturing industries such as textiles and information technology services which have become increasingly important in recent years.\\n\\nOverall India remains an emerging global power with significant cultural influence around world while facing challenges related poverty , corruption , religious conflicts etc.', refusal=None, role='assistant', audio=None, function_call=None, tool_calls=None)), Choice(finish_reason='stop', index=1, logprobs=None, message=ChatCompletionMessage(content='India is a country located in South Asia. It is the seventh-largest country by land area and the second-most populous country in the world, with over 1.3 billion people. India is known for its rich cultural heritage, diverse languages, religions, and cuisines.\\n\\nThe capital of India is New Delhi and the largest city is Mumbai (formerly Bombay). The official language of India is Hindi, but there are also many other recognized regional languages spoken throughout the country.\\n\\nIndia has a federal parliamentary democratic republic form of government with a President as head of state and a Prime Minister as head of government. The economy of India is one of the fastest-growing major economies in the world, driven by sectors such as information technology services, agriculture, textiles, pharmaceuticals among others.\\n\\nIndia has significant geopolitical influence globally due to its sizeable population and growing economic power. However it also faces challenges such as poverty levels , corruption issues , environmental degradation etc that need to be addressed for sustainable development .', refusal=None, role='assistant', audio=None, function_call=None, tool_calls=None)), Choice(finish_reason='stop', index=2, logprobs=None, message=ChatCompletionMessage(content='India is a country located in South Asia, known for its diverse culture, rich history, and rapidly growing economy. It is the seventh-largest country by land area and the second-most populous country in the world. India is a federal parliamentary democratic republic with 28 states and 8 union territories.\\n\\nThe capital of India is New Delhi, while Mumbai is the financial capital of the country. The official languages are Hindi and English, but there are also many other regional languages spoken throughout different parts of India.\\n\\nIndia has made significant progress in various fields such as technology, healthcare, education, and infrastructure development. However, it still faces challenges like poverty, corruption,\\nand social inequality.\\n\\nOverall ,India continues to be an important player on the global stage due to its large population size,sustainable economic growth,and strategic geopolitical location .', refusal=None, role='assistant', audio=None, function_call=None, tool_calls=None))], created=1738219645, model='gpt-3.5-turbo-0125', object='chat.completion', service_tier='default', system_fingerprint=None, usage=CompletionUsage(completion_tokens=549, prompt_tokens=10, total_tokens=559, completion_tokens_details=CompletionTokensDetails(accepted_prediction_tokens=0, audio_tokens=0, reasoning_tokens=0, rejected_prediction_tokens=0), prompt_tokens_details=PromptTokensDetails(audio_tokens=0, cached_tokens=0)))\n"
     ]
    }
   ],
   "source": [
    "print(completion)"
   ]
  },
  {
   "cell_type": "code",
   "execution_count": null,
   "id": "20d720fd-7dc2-4691-a28b-1c367b0bcc4a",
   "metadata": {},
   "outputs": [],
   "source": []
  }
 ],
 "metadata": {
  "kernelspec": {
   "display_name": "Python 3 (ipykernel)",
   "language": "python",
   "name": "python3"
  },
  "language_info": {
   "codemirror_mode": {
    "name": "ipython",
    "version": 3
   },
   "file_extension": ".py",
   "mimetype": "text/x-python",
   "name": "python",
   "nbconvert_exporter": "python",
   "pygments_lexer": "ipython3",
   "version": "3.11.7"
  }
 },
 "nbformat": 4,
 "nbformat_minor": 5
}
