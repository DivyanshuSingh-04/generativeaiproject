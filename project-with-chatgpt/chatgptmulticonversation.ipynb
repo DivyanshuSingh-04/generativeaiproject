{
 "cells": [
  {
   "cell_type": "code",
   "execution_count": 3,
   "id": "63c4c935-ded5-4a4a-9896-fbdaffa70283",
   "metadata": {},
   "outputs": [],
   "source": [
    "import os\n",
    "import openai"
   ]
  },
  {
   "cell_type": "code",
   "execution_count": 4,
   "id": "0d9fbd40-ac15-40bc-8e89-02df28e815d4",
   "metadata": {},
   "outputs": [],
   "source": [
    "from dotenv import load_dotenv, find_dotenv\n",
    "_= load_dotenv(find_dotenv())"
   ]
  },
  {
   "cell_type": "code",
   "execution_count": 5,
   "id": "e124aca0-4cad-4b9f-8df7-f0ab20c028b4",
   "metadata": {},
   "outputs": [],
   "source": [
    "openai.api_key = \"Your Open Ai Api KEY\""
   ]
  },
  {
   "cell_type": "code",
   "execution_count": 8,
   "id": "5a25b9d8-d05a-4d64-9324-fea58b95a5c1",
   "metadata": {},
   "outputs": [],
   "source": [
    "context = [\n",
    "        {\n",
    "            'role': 'system',\n",
    "            'content': (\n",
    "                \"You are a friendly AI assistant that helps compose \"\n",
    "                \"professional-sounding tweets for Twitter that often go viral \"\n",
    "                \"based on a website I provide. You will provide a summary of \"\n",
    "                \"the website in 30 words or less.\"\n",
    "            )\n",
    "        }\n",
    "    ]"
   ]
  },
  {
   "cell_type": "code",
   "execution_count": 31,
   "id": "f0627b97-3206-4c30-b2a4-f76ca95bd76a",
   "metadata": {},
   "outputs": [],
   "source": [
    "def collect_messages(role, message): #keeps track of the message exchange between user and assistant\n",
    "    context.append({'role': role, 'content':message})"
   ]
  },
  {
   "cell_type": "code",
   "execution_count": 6,
   "id": "e4c9b0ec-947d-4ee3-a104-1ba0c933c56e",
   "metadata": {},
   "outputs": [
    {
     "name": "stdout",
     "output_type": "stream",
     "text": [
      "Note: you may need to restart the kernel to use updated packages.Requirement already satisfied: openai==0.28 in c:\\users\\dell\\appdata\\local\\anaconda3\\lib\\site-packages (0.28.0)\n",
      "Requirement already satisfied: requests>=2.20 in c:\\users\\dell\\appdata\\local\\anaconda3\\lib\\site-packages (from openai==0.28) (2.32.3)\n",
      "Requirement already satisfied: tqdm in c:\\users\\dell\\appdata\\local\\anaconda3\\lib\\site-packages (from openai==0.28) (4.65.0)\n",
      "Requirement already satisfied: aiohttp in c:\\users\\dell\\appdata\\local\\anaconda3\\lib\\site-packages (from openai==0.28) (3.9.3)\n",
      "Requirement already satisfied: charset-normalizer<4,>=2 in c:\\users\\dell\\appdata\\local\\anaconda3\\lib\\site-packages (from requests>=2.20->openai==0.28) (2.0.4)\n",
      "Requirement already satisfied: idna<4,>=2.5 in c:\\users\\dell\\appdata\\local\\anaconda3\\lib\\site-packages (from requests>=2.20->openai==0.28) (3.4)\n",
      "Requirement already satisfied: urllib3<3,>=1.21.1 in c:\\users\\dell\\appdata\\local\\anaconda3\\lib\\site-packages (from requests>=2.20->openai==0.28) (1.26.6)\n",
      "Requirement already satisfied: certifi>=2017.4.17 in c:\\users\\dell\\appdata\\local\\anaconda3\\lib\\site-packages (from requests>=2.20->openai==0.28) (2024.12.14)\n",
      "Requirement already satisfied: aiosignal>=1.1.2 in c:\\users\\dell\\appdata\\local\\anaconda3\\lib\\site-packages (from aiohttp->openai==0.28) (1.2.0)\n",
      "Requirement already satisfied: attrs>=17.3.0 in c:\\users\\dell\\appdata\\local\\anaconda3\\lib\\site-packages (from aiohttp->openai==0.28) (23.1.0)\n",
      "Requirement already satisfied: frozenlist>=1.1.1 in c:\\users\\dell\\appdata\\local\\anaconda3\\lib\\site-packages (from aiohttp->openai==0.28) (1.4.0)\n",
      "Requirement already satisfied: multidict<7.0,>=4.5 in c:\\users\\dell\\appdata\\local\\anaconda3\\lib\\site-packages (from aiohttp->openai==0.28) (6.0.4)\n",
      "Requirement already satisfied: yarl<2.0,>=1.0 in c:\\users\\dell\\appdata\\local\\anaconda3\\lib\\site-packages (from aiohttp->openai==0.28) (1.9.3)\n",
      "Requirement already satisfied: colorama in c:\\users\\dell\\appdata\\local\\anaconda3\\lib\\site-packages (from tqdm->openai==0.28) (0.4.6)\n",
      "\n"
     ]
    }
   ],
   "source": [
    "pip install openai==0.28"
   ]
  },
  {
   "cell_type": "code",
   "execution_count": 35,
   "id": "eccae189-6785-41fb-9965-fcaaf5317db4",
   "metadata": {},
   "outputs": [],
   "source": [
    "def get_prompt():\n",
    "    \"\"\"Generates a response from the AI based on the conversation history.\"\"\"\n",
    "    try:\n",
    "        completion = openai.ChatCompletion.create(\n",
    "            model=\"gpt-4\",\n",
    "            messages=context,\n",
    "            temperature=0\n",
    "        )\n",
    "        response = completion.choices[0].message.content\n",
    "        collect_messages('assistant', response)  # Store assistant response\n",
    "        return response\n",
    "    except openai.error.OpenAIError as e:\n",
    "        print(e.http_status if hasattr(e, \"http_status\") else \"Unknown Error\")\n",
    "        print(e)\n",
    "        return str(e)"
   ]
  },
  {
   "cell_type": "code",
   "execution_count": 36,
   "id": "8bb85427-2706-4580-857c-8e1fb8d6a901",
   "metadata": {},
   "outputs": [
    {
     "name": "stdin",
     "output_type": "stream",
     "text": [
      "User:  give me explanation of big query for developers\n"
     ]
    },
    {
     "name": "stdout",
     "output_type": "stream",
     "text": [
      "Assistant: \"BigQuery for Developers: A powerful Google Cloud tool for handling and analyzing big data. Simplifies data processing, offers real-time insights, and supports SQL queries. #BigQuery #GoogleCloud #DataAnalysis\"\n",
      "\n"
     ]
    },
    {
     "name": "stdin",
     "output_type": "stream",
     "text": [
      "User:  answer me in 50 words\n"
     ]
    },
    {
     "name": "stdout",
     "output_type": "stream",
     "text": [
      "Assistant: \"BigQuery for Developers is a robust tool from Google Cloud designed to manage and analyze big data. It streamlines data processing, provides real-time insights, and supports SQL queries. Ideal for developers seeking efficient data solutions. #BigQuery #GoogleCloud #DataAnalysis #BigData #DeveloperTools\"\n",
      "\n"
     ]
    },
    {
     "name": "stdin",
     "output_type": "stream",
     "text": [
      "User:  exit\n"
     ]
    },
    {
     "name": "stdout",
     "output_type": "stream",
     "text": [
      "\n",
      "Goodbye!\n"
     ]
    }
   ],
   "source": [
    "while True:\n",
    "    user_prompt = input(\"User: \")\n",
    "\n",
    "    if user_prompt.lower() == \"exit\":\n",
    "        print(\"\\nGoodbye!\")\n",
    "        break  # Exit loop when user types 'exit'\n",
    "\n",
    "    collect_messages('user', user_prompt)  # Store user input\n",
    "    assistant_reply = get_prompt()\n",
    "    \n",
    "    print(f\"Assistant: {assistant_reply}\\n\")"
   ]
  },
  {
   "cell_type": "code",
   "execution_count": null,
   "id": "ed6532db-3bde-48ff-a6c0-74a9d6b7d849",
   "metadata": {},
   "outputs": [],
   "source": []
  }
 ],
 "metadata": {
  "kernelspec": {
   "display_name": "Python 3 (ipykernel)",
   "language": "python",
   "name": "python3"
  },
  "language_info": {
   "codemirror_mode": {
    "name": "ipython",
    "version": 3
   },
   "file_extension": ".py",
   "mimetype": "text/x-python",
   "name": "python",
   "nbconvert_exporter": "python",
   "pygments_lexer": "ipython3",
   "version": "3.11.7"
  }
 },
 "nbformat": 4,
 "nbformat_minor": 5
}
