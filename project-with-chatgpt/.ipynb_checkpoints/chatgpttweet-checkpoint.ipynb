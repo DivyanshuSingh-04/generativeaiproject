{
 "cells": [
  {
   "cell_type": "code",
   "execution_count": 18,
   "id": "df39bfb0-c3fb-45b7-a78e-fc2f79d5d470",
   "metadata": {},
   "outputs": [],
   "source": [
    "import os\n",
    "import openai\n",
    "from dotenv import load_dotenv, find_dotenv\n",
    "_ =load_dotenv(find_dotenv())"
   ]
  },
  {
   "cell_type": "code",
   "execution_count": 19,
   "id": "63037dc2-f5b6-4181-9f7b-297f233085d8",
   "metadata": {},
   "outputs": [],
   "source": [
    "openai.api_key = \"Your Open Ai Api KEY\""
   ]
  },
  {
   "cell_type": "code",
   "execution_count": 20,
   "id": "f6994566-431c-45cb-9a46-ac6ffe0420b5",
   "metadata": {},
   "outputs": [],
   "source": [
    "context = [\n",
    "        {\n",
    "            'role': 'system',\n",
    "            'content': (\n",
    "                \"You are a friendly AI assistant that helps compose \"\n",
    "                \"professional-sounding tweets for Twitter that often go viral \"\n",
    "                \"based on a website I provide. You will provide a summary of \"\n",
    "                \"the website in 30 words or less.\"\n",
    "            )\n",
    "        }\n",
    "    ]"
   ]
  },
  {
   "cell_type": "code",
   "execution_count": 21,
   "id": "bc638c0d-fe39-4dd9-9756-8bbede554990",
   "metadata": {},
   "outputs": [],
   "source": [
    "def collect_messages(role, message): #keeps track of the message exchange between user and assistant\n",
    "    context.append({'role': role, 'content':message})"
   ]
  },
  {
   "cell_type": "code",
   "execution_count": 22,
   "id": "7efdf8b7-f8a5-4dd2-830b-d43c05c51205",
   "metadata": {},
   "outputs": [],
   "source": [
    "def generate_prompt():\n",
    "    \"\"\"Generates a response from the AI based on the conversation history.\"\"\"\n",
    "    try:\n",
    "        completion = openai.ChatCompletion.create(\n",
    "            model=\"gpt-4\",\n",
    "            messages=context,\n",
    "            temperature=0\n",
    "        )\n",
    "        response = completion.choices[0].message.content  # Fixed property access\n",
    "        collect_messages('assistant', response)  # Store assistant's response\n",
    "        return response\n",
    "    except openai.error.OpenAIError as e:\n",
    "        print(e.http_status if hasattr(e, \"http_status\") else \"Unknown Error\")  # Fixed syntax\n",
    "        print(e)\n",
    "        return str(e)"
   ]
  },
  {
   "cell_type": "code",
   "execution_count": 23,
   "id": "ca7f360f-b7c1-4ecb-a34a-0793ab292107",
   "metadata": {},
   "outputs": [
    {
     "name": "stdin",
     "output_type": "stream",
     "text": [
      "User:  exit\n"
     ]
    },
    {
     "name": "stdout",
     "output_type": "stream",
     "text": [
      "\n",
      "Goodbye!\n"
     ]
    }
   ],
   "source": [
    "while True:\n",
    "    user_prompt = input(\"User: \")\n",
    "\n",
    "    if user_prompt.lower() == \"exit\":\n",
    "        print(\"\\nGoodbye!\")\n",
    "        break  # Exit loop when user types 'exit'\n",
    "\n",
    "    collect_messages('user', user_prompt)  # Store user input\n",
    "    assistant_reply = generate_prompt()\n",
    "    \n",
    "    print(f\"Assistant: {assistant_reply}\\n\")"
   ]
  },
  {
   "cell_type": "code",
   "execution_count": 24,
   "id": "ce02c58f-f953-46e5-8994-be5761fba060",
   "metadata": {},
   "outputs": [],
   "source": [
    "def generate_images(summary):\n",
    "    print(summary)\n",
    "\n",
    "    try: \n",
    "        completion = openai.images.generate(\n",
    "           model=\"dall-e-3\",\n",
    "           prompt=summary,\n",
    "           n=1,\n",
    "          size=\"1024x1024\"\n",
    "       )\n",
    "        print(\"Image is generated\")\n",
    "        image_url = completion.data[0].url\n",
    "        return image_url\n",
    "\n",
    "    except openai.error.OpenAIError as e:\n",
    "        print(e.http_status if hasttr(e, \"http_status\") else \"Unknown Error\")\n",
    "        print(e)\n",
    "        return str(e)"
   ]
  },
  {
   "cell_type": "code",
   "execution_count": null,
   "id": "5f5ef12e-87e0-45c3-9d5d-23e6ec236c83",
   "metadata": {},
   "outputs": [
    {
     "name": "stdin",
     "output_type": "stream",
     "text": [
      "User:  https://www.linkedin.com/learning\n"
     ]
    }
   ],
   "source": [
    "while True: \n",
    "    summary = generate_prompt()\n",
    "    collect_messages('assistant', summary)\n",
    "    user_prompt = input('User: ')\n",
    "\n",
    "    if user_prompt == 'exit':\n",
    "        print('/nGoodye!')\n",
    "        break\n",
    "\n",
    "    collect_messages('user', user_prompt)"
   ]
  },
  {
   "cell_type": "code",
   "execution_count": null,
   "id": "0a47d85f-4d3f-480f-bb96-7c23364a914c",
   "metadata": {},
   "outputs": [],
   "source": []
  }
 ],
 "metadata": {
  "kernelspec": {
   "display_name": "Python 3 (ipykernel)",
   "language": "python",
   "name": "python3"
  },
  "language_info": {
   "codemirror_mode": {
    "name": "ipython",
    "version": 3
   },
   "file_extension": ".py",
   "mimetype": "text/x-python",
   "name": "python",
   "nbconvert_exporter": "python",
   "pygments_lexer": "ipython3",
   "version": "3.11.7"
  }
 },
 "nbformat": 4,
 "nbformat_minor": 5
}
